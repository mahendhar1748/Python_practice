{
 "cells": [
  {
   "cell_type": "code",
   "execution_count": 3,
   "metadata": {},
   "outputs": [
    {
     "name": "stdout",
     "output_type": "stream",
     "text": [
      "The passed name is Mahendhar, so\n"
     ]
    },
    {
     "data": {
      "text/plain": [
       "'The given name is Mahendhar'"
      ]
     },
     "execution_count": 3,
     "metadata": {},
     "output_type": "execute_result"
    }
   ],
   "source": [
    "def first_function(name):\n",
    "    print(f'The passed name is {name}, so')\n",
    "    return \"The given name is {}\".format(name)\n",
    "\n",
    "\n",
    "first_function(\"Mahendhar\")\n",
    "    "
   ]
  },
  {
   "cell_type": "code",
   "execution_count": 5,
   "metadata": {},
   "outputs": [
    {
     "data": {
      "text/plain": [
       "'The given name is Default Name'"
      ]
     },
     "execution_count": 5,
     "metadata": {},
     "output_type": "execute_result"
    }
   ],
   "source": [
    "def default_name(name = \"Default Name\"):\n",
    "    return f'The given name is {name}'\n",
    "\n",
    "default_name()\n",
    "#default_name(\"Mahendhar\")"
   ]
  },
  {
   "cell_type": "code",
   "execution_count": 7,
   "metadata": {},
   "outputs": [
    {
     "data": {
      "text/plain": [
       "'The given number is 23 odd number'"
      ]
     },
     "execution_count": 7,
     "metadata": {},
     "output_type": "execute_result"
    }
   ],
   "source": [
    "# Even check using functions\n",
    "def even_check(Number):\n",
    "    if Number % 2 == 0 :\n",
    "        return f'Yes, the give number {Number} is even'\n",
    "    else:\n",
    "        return f'The given number is {Number} odd number'\n",
    "    \n",
    "even_check(23)"
   ]
  },
  {
   "cell_type": "code",
   "execution_count": 9,
   "metadata": {},
   "outputs": [
    {
     "data": {
      "text/plain": [
       "False"
      ]
     },
     "execution_count": 9,
     "metadata": {},
     "output_type": "execute_result"
    }
   ],
   "source": [
    "# Checking if there is a even number in given List. If Yes Please give output as True\n",
    "\n",
    "def check_even_list(my_list):\n",
    "    \n",
    "    for i in my_list:\n",
    "        if i % 2 == 0:\n",
    "            return True\n",
    "        else:\n",
    "            pass\n",
    "    return False\n",
    "\n",
    "check_even_list([121,13,35])"
   ]
  },
  {
   "cell_type": "code",
   "execution_count": 11,
   "metadata": {},
   "outputs": [
    {
     "name": "stdout",
     "output_type": "stream",
     "text": [
      "[124, 46, 78, 90, 100]\n"
     ]
    }
   ],
   "source": [
    "# Returning all the even numbers from a list to separate list\n",
    "my_list_2 = []\n",
    "\n",
    "def check_even_list(my_list):\n",
    "    \n",
    "    for i in my_list:\n",
    "        if i % 2 == 0:\n",
    "            my_list_2.append(i)\n",
    "            #return True\n",
    "        else:\n",
    "            pass\n",
    "    return False\n",
    "\n",
    "check_even_list([124,46,78,90,35,57,99,100])\n",
    "\n",
    "print(my_list_2)"
   ]
  },
  {
   "cell_type": "code",
   "execution_count": 12,
   "metadata": {},
   "outputs": [
    {
     "name": "stdout",
     "output_type": "stream",
     "text": [
      "The only companies registered are  Google\n",
      "The only companies registered are  Facebook\n",
      "The only companies registered are  Meta\n"
     ]
    }
   ],
   "source": [
    "# Tuple un-packing \n",
    "\n",
    "tup = [(\"Google\",2000),(\"Facebook\",4000),(\"Meta\",9000)]\n",
    "\n",
    "for company,stock_price in tup:\n",
    "    print(\"The only companies registered are \",company) "
   ]
  },
  {
   "cell_type": "markdown",
   "metadata": {},
   "source": [
    "### Printing Employee of the month"
   ]
  },
  {
   "cell_type": "code",
   "execution_count": 21,
   "metadata": {},
   "outputs": [
    {
     "name": "stdout",
     "output_type": "stream",
     "text": [
      "James\n",
      "67\n"
     ]
    }
   ],
   "source": [
    "#Cross check wether which employee had worked for most hours in the given list\n",
    "\n",
    "employees  = [(\"Viru\",25),(\"capt\",50),(\"yuvi\",45),(\"James\",67)]\n",
    "\n",
    "def most_worked(employees):\n",
    "     \n",
    "     hrs = 0\n",
    "     employee_of_the_month = \" \"\n",
    "     \n",
    "     for a,b in employees:\n",
    "         \n",
    "         if b > hrs :\n",
    "             hrs = b\n",
    "             employee_of_the_month = a\n",
    "                   \n",
    "         else:\n",
    "             pass\n",
    "          \n",
    "     return (employee_of_the_month,hrs)    \n",
    " \n",
    "#most_worked(employees)  \n",
    "\n",
    "employee_name,employee_hrs =  most_worked(employees) \n",
    "\n",
    "print(employee_name)\n",
    "print(employee_hrs)\n",
    "         \n",
    "\n"
   ]
  },
  {
   "cell_type": "markdown",
   "metadata": {},
   "source": [
    "### (Shuffling) Interaction between the functions"
   ]
  },
  {
   "cell_type": "code",
   "execution_count": 1,
   "metadata": {},
   "outputs": [
    {
     "name": "stdout",
     "output_type": "stream",
     "text": [
      "[1, 2, 3, 4, 5, 6]\n",
      "[2, 4, 3, 5, 1, 6]\n"
     ]
    }
   ],
   "source": [
    "from random import shuffle\n",
    "\n",
    "example = [1,2,3,4,5,6]\n",
    "print(example)\n",
    "\n",
    "# Shuffling\n",
    "shuffle(example)\n",
    "print(example)"
   ]
  },
  {
   "cell_type": "code",
   "execution_count": 28,
   "metadata": {},
   "outputs": [
    {
     "name": "stdout",
     "output_type": "stream",
     "text": [
      "None\n"
     ]
    },
    {
     "data": {
      "text/plain": [
       "['O', ' ', ' ']"
      ]
     },
     "execution_count": 28,
     "metadata": {},
     "output_type": "execute_result"
    }
   ],
   "source": [
    "from random import shuffle\n",
    "\n",
    "# function for Shuffling list\n",
    "def shuffle_list(my_list):\n",
    "    result  = shuffle(my_list)\n",
    "    print(result)\n",
    "    return my_list\n",
    "\n",
    "shuffle_list([' ','O',' '])"
   ]
  },
  {
   "cell_type": "code",
   "execution_count": 1,
   "metadata": {},
   "outputs": [
    {
     "name": "stdout",
     "output_type": "stream",
     "text": [
      "Wrong , Better luck next time\n",
      "['O', '', '', '', '']\n"
     ]
    }
   ],
   "source": [
    "#Mylist\n",
    "#Shuffle list\n",
    "#My Guess\n",
    "#My prediction\n",
    "from random import shuffle\n",
    "\n",
    "# function for Shuffling list\n",
    "def shuffle_list(my_list):\n",
    "    shuffle(my_list)\n",
    "    return my_list\n",
    "\n",
    "#Function for Guessing a position\n",
    "def player_guess():\n",
    "    \n",
    "    guess = \" \"\n",
    "    \n",
    "    while guess not in ['0','1','2','3','4']:\n",
    "        guess = input(\"pick a number in Between : 0-4\")\n",
    "    return int(guess)\n",
    "\n",
    "#Function for Prediction\n",
    "\n",
    "def player_prediction():\n",
    "    \n",
    "    if my_list[guess] == 'O':\n",
    "        print(\"Correct Guess!\")\n",
    "    else:\n",
    "        print(\"Wrong , Better luck next time\")\n",
    "        print(my_list) \n",
    "        \n",
    "# Performing operation\n",
    "my_list = ['','','O','','']\n",
    "shuffle_list(my_list)\n",
    "guess = player_guess()\n",
    "player_prediction()\n",
    "\n",
    "\n",
    "\n",
    "\n",
    "\n"
   ]
  },
  {
   "cell_type": "code",
   "execution_count": 2,
   "metadata": {},
   "outputs": [
    {
     "name": "stdout",
     "output_type": "stream",
     "text": [
      "Hello Mahi \n"
     ]
    }
   ],
   "source": [
    "def myfun(name):\n",
    "    print(\"Hello {} \".format(name))\n",
    "\n",
    "myfun(\"Mahi\")"
   ]
  },
  {
   "cell_type": "markdown",
   "metadata": {},
   "source": [
    "#### *args and **kwargs"
   ]
  },
  {
   "cell_type": "code",
   "execution_count": 4,
   "metadata": {},
   "outputs": [
    {
     "data": {
      "text/plain": [
       "2.5"
      ]
     },
     "execution_count": 4,
     "metadata": {},
     "output_type": "execute_result"
    }
   ],
   "source": [
    "def myfunc(a,b):\n",
    "    #returns 5% of sum of a and b\n",
    "    return (a + b) * 0.05\n",
    "myfunc(30,20)\n",
    "    "
   ]
  },
  {
   "cell_type": "code",
   "execution_count": 5,
   "metadata": {},
   "outputs": [
    {
     "data": {
      "text/plain": [
       "9.05"
      ]
     },
     "execution_count": 5,
     "metadata": {},
     "output_type": "execute_result"
    }
   ],
   "source": [
    "# If i want to add n number of parameters we need to go with arguments\n",
    "def myfunc(*args):\n",
    "    return sum(args) * 0.05\n",
    "myfunc(20,3,30,45,36,47)\n",
    "\n",
    "# Returns a tuple"
   ]
  },
  {
   "cell_type": "code",
   "execution_count": 7,
   "metadata": {},
   "outputs": [
    {
     "name": "stdout",
     "output_type": "stream",
     "text": [
      "My fruit of choice is apple\n"
     ]
    }
   ],
   "source": [
    "#Keyword argumetns ---> for this we have to pass the arguments in dictionary format --> Returns dictionary objeccts\n",
    "def myfunc(**kwargs):\n",
    "    if 'fruit' in kwargs:\n",
    "        print(\"My fruit of choice is {}\".format(kwargs['fruit']))\n",
    "    else:\n",
    "        print(\"I didnt find any fruit here\")\n",
    "        \n",
    "myfunc(fruit = 'apple',veggie = 'spinach')\n",
    "\n",
    "              \n"
   ]
  },
  {
   "cell_type": "code",
   "execution_count": 10,
   "metadata": {},
   "outputs": [
    {
     "name": "stdout",
     "output_type": "stream",
     "text": [
      "(10, 20, 30)\n",
      "{'fruit': 'apple', 'food': 'eggs', 'animal': 'dog'}\n",
      " I would like 10 eggs \n"
     ]
    }
   ],
   "source": [
    "# Combining both args and kwargs\n",
    "\n",
    "def myfunc(*args,**kwargs):\n",
    "    print(args)\n",
    "    print(kwargs)\n",
    "    print(\" I would like {} {} \".format(args[0],kwargs['food']))\n",
    "    \n",
    "myfunc(10,20,30,fruit= 'apple',food = 'eggs',animal='dog')"
   ]
  },
  {
   "cell_type": "code",
   "execution_count": 11,
   "metadata": {},
   "outputs": [
    {
     "data": {
      "text/plain": [
       "' hElLo wOrLd'"
      ]
     },
     "execution_count": 11,
     "metadata": {},
     "output_type": "execute_result"
    }
   ],
   "source": [
    "def myfunc(st):\n",
    "    result = \" \"\n",
    "    for index,letter in enumerate(st):\n",
    "        if index % 2 == 0:\n",
    "            result +=letter.lower()\n",
    "        else:\n",
    "            result +=letter.upper()\n",
    "    return result\n",
    "myfunc(\"Hello World\")"
   ]
  },
  {
   "cell_type": "code",
   "execution_count": 12,
   "metadata": {},
   "outputs": [
    {
     "name": "stdout",
     "output_type": "stream",
     "text": [
      "[2, 4, 6]\n"
     ]
    }
   ],
   "source": [
    "def myfunc(*args):\n",
    "    # Initialize an empty list to store even numbers\n",
    "    even_numbers = []\n",
    "    \n",
    "    # Iterate over the arguments\n",
    "    for number in args:\n",
    "        # Check if the number is even\n",
    "        if number % 2 == 0:\n",
    "            # If even, append to the list\n",
    "            even_numbers.append(number)\n",
    "    \n",
    "    # Return the list of even numbers\n",
    "    return even_numbers\n",
    "\n",
    "# Example usage of the function\n",
    "print(myfunc(1, 2, 3, 4, 5, 6))  # Output should be [2, 4, 6]\n"
   ]
  },
  {
   "cell_type": "code",
   "execution_count": 1,
   "metadata": {},
   "outputs": [
    {
     "data": {
      "text/plain": [
       "30"
      ]
     },
     "execution_count": 1,
     "metadata": {},
     "output_type": "execute_result"
    }
   ],
   "source": [
    "#printing sum of numbers at even indexes\n",
    "\n",
    "def myfunc(st):\n",
    "    result = 0\n",
    "    for index,letter in enumerate(st):\n",
    "        if index % 2 == 0:\n",
    "            result +=letter\n",
    "        else:\n",
    "            pass\n",
    "    return result\n",
    "\n",
    "myfunc([2,3,4,5,6,7,8,11,10])"
   ]
  },
  {
   "cell_type": "markdown",
   "metadata": {},
   "source": [
    "### Special Functions\n"
   ]
  },
  {
   "cell_type": "markdown",
   "metadata": {},
   "source": [
    "##### Map Function"
   ]
  },
  {
   "cell_type": "code",
   "execution_count": 2,
   "metadata": {},
   "outputs": [],
   "source": [
    "# Map Function #(function,iterable)   --> It iterates each element based on function \n",
    "\n",
    "def square(num):\n",
    "    return num**2"
   ]
  },
  {
   "cell_type": "code",
   "execution_count": 3,
   "metadata": {},
   "outputs": [
    {
     "name": "stdout",
     "output_type": "stream",
     "text": [
      "1\n",
      "4\n",
      "9\n",
      "16\n",
      "25\n",
      "36\n"
     ]
    }
   ],
   "source": [
    "my_list = [1,2,3,4,5,6]\n",
    "\n",
    "for item in map(square,my_list):\n",
    "    print(item)\n",
    "    "
   ]
  },
  {
   "cell_type": "code",
   "execution_count": 4,
   "metadata": {},
   "outputs": [
    {
     "data": {
      "text/plain": [
       "[1, 4, 9, 16, 25, 36]"
      ]
     },
     "execution_count": 4,
     "metadata": {},
     "output_type": "execute_result"
    }
   ],
   "source": [
    "list(map(square,my_list))"
   ]
  },
  {
   "cell_type": "code",
   "execution_count": 5,
   "metadata": {},
   "outputs": [
    {
     "data": {
      "text/plain": [
       "['M', 'even', 'D', 'even']"
      ]
     },
     "execution_count": 5,
     "metadata": {},
     "output_type": "execute_result"
    }
   ],
   "source": [
    "# Getting \"even\" for even no of strings and getting first letter of string for odd numbers\n",
    "\n",
    "def slicer(my_strings):\n",
    "    if len(my_strings)%2 == 0:\n",
    "        return \"even\"\n",
    "    else:\n",
    "        return my_strings[0]\n",
    "\n",
    "\n",
    "names = [\"Mahendhar\",\"Yuvraj\",\"Dhoni\",\"Mahi\"]\n",
    "\n",
    "list(map(slicer,names))"
   ]
  },
  {
   "cell_type": "markdown",
   "metadata": {},
   "source": [
    "##### Filter Function"
   ]
  },
  {
   "cell_type": "code",
   "execution_count": 6,
   "metadata": {},
   "outputs": [
    {
     "data": {
      "text/plain": [
       "[2, 4, 6, 8]"
      ]
     },
     "execution_count": 6,
     "metadata": {},
     "output_type": "execute_result"
    }
   ],
   "source": [
    "# Filter function returns elements based on function condition\n",
    "\n",
    "def check_even(num):\n",
    "    return num%2 ==0\n",
    "\n",
    "my_nums = [1,2,3,4,6,7,9,8]\n",
    "\n",
    "# I just want to grab even numbers from above list\n",
    "\n",
    "list(filter(check_even,my_nums))"
   ]
  },
  {
   "cell_type": "markdown",
   "metadata": {},
   "source": [
    "##### Lamda Expression"
   ]
  },
  {
   "cell_type": "code",
   "execution_count": 8,
   "metadata": {},
   "outputs": [
    {
     "data": {
      "text/plain": [
       "30"
      ]
     },
     "execution_count": 8,
     "metadata": {},
     "output_type": "execute_result"
    }
   ],
   "source": [
    "p=(lambda x,y:x*y) # (Arguments:Expression)\n",
    "p(10,3)"
   ]
  },
  {
   "cell_type": "code",
   "execution_count": 10,
   "metadata": {},
   "outputs": [
    {
     "data": {
      "text/plain": [
       "[2, 4, 6, 8, 10, 12]"
      ]
     },
     "execution_count": 10,
     "metadata": {},
     "output_type": "execute_result"
    }
   ],
   "source": [
    "#map function with lamda function\n",
    "list(map(lambda num:num*2,my_list))"
   ]
  },
  {
   "cell_type": "code",
   "execution_count": 13,
   "metadata": {},
   "outputs": [
    {
     "data": {
      "text/plain": [
       "[2, 4, 6, 8]"
      ]
     },
     "execution_count": 13,
     "metadata": {},
     "output_type": "execute_result"
    }
   ],
   "source": [
    "#filter function with lamda\n",
    "list(filter(lambda num:num % 2 ==0,my_nums))"
   ]
  },
  {
   "cell_type": "code",
   "execution_count": 15,
   "metadata": {},
   "outputs": [
    {
     "data": {
      "text/plain": [
       "['M', 'Y', 'D', 'M']"
      ]
     },
     "execution_count": 15,
     "metadata": {},
     "output_type": "execute_result"
    }
   ],
   "source": [
    "#Printing first character of names\n",
    "\n",
    "list(map(lambda x:x[0],names))"
   ]
  },
  {
   "cell_type": "code",
   "execution_count": 16,
   "metadata": {},
   "outputs": [
    {
     "data": {
      "text/plain": [
       "['rahdnehaM', 'jarvuY', 'inohD', 'ihaM']"
      ]
     },
     "execution_count": 16,
     "metadata": {},
     "output_type": "execute_result"
    }
   ],
   "source": [
    "# Reversing the given array elememts\n",
    "list(map(lambda x:x[::-1],names))"
   ]
  },
  {
   "cell_type": "code",
   "execution_count": 20,
   "metadata": {},
   "outputs": [
    {
     "data": {
      "text/plain": [
       "('l', 'e', 'v', 'e', 'l')"
      ]
     },
     "execution_count": 20,
     "metadata": {},
     "output_type": "execute_result"
    }
   ],
   "source": [
    "#Reversing the given string\n",
    "tuple(map(lambda x:x[::-1],\"level\"))"
   ]
  },
  {
   "cell_type": "markdown",
   "metadata": {},
   "source": [
    "#### Most common repeated element"
   ]
  },
  {
   "cell_type": "code",
   "execution_count": 21,
   "metadata": {},
   "outputs": [],
   "source": [
    "#lst = [1,2,1,1,4,5,7,8,9]\n",
    "\n",
    "def most_repeated(lst):\n",
    "    return max(set(lst),key=lst.count)\n",
    "lst = [1,2,1,1,4,5,7,8,9]"
   ]
  },
  {
   "cell_type": "code",
   "execution_count": 28,
   "metadata": {},
   "outputs": [
    {
     "data": {
      "text/plain": [
       "(1, 3)"
      ]
     },
     "execution_count": 28,
     "metadata": {},
     "output_type": "execute_result"
    }
   ],
   "source": [
    "from collections import Counter\n",
    "\n",
    "def most_common(lst):\n",
    "    data = Counter(lst)\n",
    "    return data.most_common(1)[0]\n",
    "\n",
    "most_common([1,2,1,1,4,5,7,8,9])"
   ]
  },
  {
   "cell_type": "code",
   "execution_count": 29,
   "metadata": {},
   "outputs": [
    {
     "data": {
      "text/plain": [
       "1    4\n",
       "4    2\n",
       "5    2\n",
       "7    2\n",
       "6    2\n",
       "2    1\n",
       "8    1\n",
       "9    1\n",
       "Name: count, dtype: int64"
      ]
     },
     "execution_count": 29,
     "metadata": {},
     "output_type": "execute_result"
    }
   ],
   "source": [
    "import pandas as pd\n",
    "\n",
    "df = pd.Series([1,2,1,1,4,5,7,8,9,1,7,6,4,5,6])\n",
    "\n",
    "df.value_counts()"
   ]
  },
  {
   "cell_type": "code",
   "execution_count": 7,
   "metadata": {},
   "outputs": [
    {
     "data": {
      "text/plain": [
       "{1: 4, 2: 1, 4: 2, 5: 2, 7: 2, 8: 1, 9: 1, 6: 2}"
      ]
     },
     "execution_count": 7,
     "metadata": {},
     "output_type": "execute_result"
    }
   ],
   "source": [
    "def most_counted(lst):\n",
    "    \n",
    "    dict = {}\n",
    "    \n",
    "    for i in lst:\n",
    "        if i in dict:\n",
    "            dict[i] += 1\n",
    "            \n",
    "        else:\n",
    "            dict[i] = 1\n",
    "            \n",
    "    return dict\n",
    "\n",
    "lst = [1,2,1,1,4,5,7,8,9,1,7,6,4,5,6]\n",
    "most_counted(lst)           \n",
    "    \n",
    "             "
   ]
  },
  {
   "cell_type": "code",
   "execution_count": 8,
   "metadata": {},
   "outputs": [
    {
     "data": {
      "text/plain": [
       "9"
      ]
     },
     "execution_count": 8,
     "metadata": {},
     "output_type": "execute_result"
    }
   ],
   "source": [
    "lst = [1,2,1,1,4,5,7,8,9,1,7,6,4,5,6]\n",
    "max(lst)"
   ]
  },
  {
   "cell_type": "markdown",
   "metadata": {},
   "source": [
    "#### Nested Statments and Scope"
   ]
  },
  {
   "cell_type": "markdown",
   "metadata": {},
   "source": [
    "##### LEGB Rule\n",
    "Local., Enclosing Function local., Global., Built-in"
   ]
  },
  {
   "cell_type": "code",
   "execution_count": 9,
   "metadata": {},
   "outputs": [
    {
     "name": "stdout",
     "output_type": "stream",
     "text": [
      "200\n",
      "100\n"
     ]
    }
   ],
   "source": [
    "x=200 \n",
    "\n",
    "def printer():\n",
    "    x = 100\n",
    "    return x\n",
    "\n",
    "print(x)\n",
    "print(printer())"
   ]
  },
  {
   "cell_type": "code",
   "execution_count": 14,
   "metadata": {},
   "outputs": [
    {
     "name": "stdout",
     "output_type": "stream",
     "text": [
      "Hello I am Local\n"
     ]
    }
   ],
   "source": [
    "#Global\n",
    "name = \"This is a global string\"\n",
    "\n",
    "def greet():\n",
    "    \n",
    "    #Local\n",
    "    name = 'I am Local'\n",
    "    \n",
    "    def hello():\n",
    "        print('Hello ' +name)\n",
    "        \n",
    "    hello()\n",
    "    \n",
    "greet()"
   ]
  },
  {
   "cell_type": "code",
   "execution_count": 15,
   "metadata": {},
   "outputs": [],
   "source": [
    "# For the above problem if  i comment the local variable name--> then it will take the global variable"
   ]
  },
  {
   "cell_type": "code",
   "execution_count": 17,
   "metadata": {},
   "outputs": [
    {
     "name": "stdout",
     "output_type": "stream",
     "text": [
      "x is 50\n",
      "I just locally changed x to 300\n"
     ]
    }
   ],
   "source": [
    "x= 50\n",
    "\n",
    "def func(x):\n",
    "    print(f'x is {x}')\n",
    "    \n",
    "    x= 300\n",
    "    print(f'I just locally changed x to {x}')\n",
    "    \n",
    "func(x)"
   ]
  },
  {
   "cell_type": "code",
   "execution_count": 3,
   "metadata": {},
   "outputs": [
    {
     "name": "stdout",
     "output_type": "stream",
     "text": [
      "False\n",
      "False\n",
      "False\n",
      "False\n",
      "False\n",
      "False\n",
      "True\n",
      "False\n",
      "False\n",
      "False\n",
      "False\n"
     ]
    }
   ],
   "source": [
    "strn = \"hello World\"\n",
    "\n",
    "for i in strn:\n",
    "    print(i.isupper())"
   ]
  },
  {
   "cell_type": "code",
   "execution_count": 4,
   "metadata": {},
   "outputs": [
    {
     "name": "stdout",
     "output_type": "stream",
     "text": [
      "['Kohli', 'Scored', 'In', 'Test', 'Match']\n"
     ]
    }
   ],
   "source": [
    "import re\n",
    "\n",
    "string = \"Kohli Scored hundred runs In a Test Match\"\n",
    "\n",
    "var = re.findall('[A-Z][a-z]+',string)\n",
    "print(var)"
   ]
  },
  {
   "cell_type": "markdown",
   "metadata": {},
   "source": [
    "#### Dictionaries"
   ]
  },
  {
   "cell_type": "code",
   "execution_count": 1,
   "metadata": {},
   "outputs": [
    {
     "name": "stdout",
     "output_type": "stream",
     "text": [
      "Name\n",
      "Age\n",
      "Height\n"
     ]
    }
   ],
   "source": [
    "details = {\"Name\" : \"Ajay\",\"Age\":25,\"Height\":5.8}\n",
    "\n",
    "for p in details:\n",
    "    print(p) "
   ]
  },
  {
   "cell_type": "code",
   "execution_count": 2,
   "metadata": {},
   "outputs": [
    {
     "name": "stdout",
     "output_type": "stream",
     "text": [
      "Name : Ajay\n",
      "Age : 25\n",
      "Height : 5.8\n"
     ]
    }
   ],
   "source": [
    "for p in details:\n",
    "    print(p,\":\",details[p])"
   ]
  },
  {
   "cell_type": "code",
   "execution_count": 3,
   "metadata": {},
   "outputs": [
    {
     "name": "stdout",
     "output_type": "stream",
     "text": [
      "Rahul\n"
     ]
    }
   ],
   "source": [
    "x = {\"emps\":[\"john\",\"Miller\",\"Rahul\",\"Ajay\"],\n",
    "     \"eid\":[101,102,103,104]}\n",
    "print(x[\"emps\"][2])"
   ]
  },
  {
   "cell_type": "code",
   "execution_count": 4,
   "metadata": {},
   "outputs": [
    {
     "name": "stdout",
     "output_type": "stream",
     "text": [
      "john , 101\n",
      "Miller , 102\n",
      "Rahul , 103\n",
      "Ajay , 104\n"
     ]
    }
   ],
   "source": [
    "i=0\n",
    "for p in x[\"emps\"]:\n",
    "    print(p,\",\",x[\"eid\"][i])\n",
    "    i=i+1"
   ]
  },
  {
   "cell_type": "code",
   "execution_count": null,
   "metadata": {},
   "outputs": [],
   "source": []
  }
 ],
 "metadata": {
  "kernelspec": {
   "display_name": "Python 3",
   "language": "python",
   "name": "python3"
  },
  "language_info": {
   "codemirror_mode": {
    "name": "ipython",
    "version": 3
   },
   "file_extension": ".py",
   "mimetype": "text/x-python",
   "name": "python",
   "nbconvert_exporter": "python",
   "pygments_lexer": "ipython3",
   "version": "3.12.3"
  }
 },
 "nbformat": 4,
 "nbformat_minor": 2
}
