{
 "cells": [
  {
   "cell_type": "code",
   "execution_count": 5,
   "id": "f1ebd7e1",
   "metadata": {},
   "outputs": [
    {
     "name": "stdout",
     "output_type": "stream",
     "text": [
      "<Response [403]>\n"
     ]
    }
   ],
   "source": [
    "# multiple pages means., we have flipkart amazon. and other e-commerce,booking websites where we have an infinite scroll\n",
    "\n",
    "import requests\n",
    "from bs4 import BeautifulSoup\n",
    "import pandas as pd\n",
    "import re\n",
    "\n",
    "url = \"https://www.flipkart.com/search?q=mobiles%20under%2050000&otracker=search&otracker1=search&marketplace=FLIPKART&as-show=on&as=off\"\n",
    "#url = \"https://www.amazon.in/s?k=mobiles+under+30000&crid=1YPCETHFKT1MN&sprefix=mobiles+under+30000%2Caps%2C248&ref=nb_sb_noss_2\"\n",
    "# getting request\n",
    "r = requests.get(url)\n",
    "\n",
    "print(r)\n",
    "soup = BeautifulSoup(r.text,\"lxml\")"
   ]
  },
  {
   "cell_type": "code",
   "execution_count": null,
   "id": "4a482cd1",
   "metadata": {},
   "outputs": [],
   "source": [
    "#getting the url of next page\n",
    "\n",
    "while True:\n",
    "    np = soup.find(\"a\",class_=\"_1LKT03\").get(\"href\")\n",
    "\n",
    "    cnp = \"https://www.flipkart.com\"+np\n",
    "    print(cnp)\n",
    "    \n",
    "    url = cnp\n",
    "    r = requests.get(url)\n",
    "    soup = BeautifulSoup(r.text,\"lxml\")\n",
    "\n"
   ]
  },
  {
   "cell_type": "code",
   "execution_count": null,
   "id": "3d03d4c3",
   "metadata": {},
   "outputs": [],
   "source": [
    "# obtaining 10 pages \n",
    "\n",
    "for i in range(1,11):\n",
    "    url = \"https://www.flipkart.com/search?q=mobiles%20under%2050000&otracker=search&otracker1=search&marketplace=FLIPKART&as-show=on&as=off\"\n",
    "    r = requests.get(url)\n",
    "\n",
    "    print(r)\n",
    "    soup = BeautifulSoup(r.text,\"lxml\")\n",
    "    \n",
    "    np = soup.find(\"a\",class_=\"_1LKT03\").get(\"href\")\n",
    "\n",
    "    cnp = \"https://www.flipkart.com\"+np\n",
    "    print(cnp)\n",
    "    "
   ]
  }
 ],
 "metadata": {
  "kernelspec": {
   "display_name": "Python 3 (ipykernel)",
   "language": "python",
   "name": "python3"
  },
  "language_info": {
   "codemirror_mode": {
    "name": "ipython",
    "version": 3
   },
   "file_extension": ".py",
   "mimetype": "text/x-python",
   "name": "python",
   "nbconvert_exporter": "python",
   "pygments_lexer": "ipython3",
   "version": "3.11.5"
  }
 },
 "nbformat": 4,
 "nbformat_minor": 5
}
