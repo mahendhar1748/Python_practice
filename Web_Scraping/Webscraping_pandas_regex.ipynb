{
 "cells": [
  {
   "cell_type": "code",
   "execution_count": 1,
   "id": "b78d3770",
   "metadata": {},
   "outputs": [
    {
     "name": "stdout",
     "output_type": "stream",
     "text": [
      "<Response [200]>\n"
     ]
    }
   ],
   "source": [
    "# using Beutiful Soup\n",
    "\n",
    "import requests\n",
    "from bs4 import BeautifulSoup\n",
    "import pandas as pd\n",
    "import re\n",
    "\n",
    "url = \"https://webscraper.io/test-sites/e-commerce/allinone/computers/tablets\"\n",
    "\n",
    "# getting request\n",
    "r = requests.get(url)\n",
    "print(r)\n",
    "soup = BeautifulSoup(r.text,\"lxml\")"
   ]
  },
  {
   "cell_type": "code",
   "execution_count": 5,
   "id": "b5b54ee8",
   "metadata": {},
   "outputs": [
    {
     "name": "stdout",
     "output_type": "stream",
     "text": [
      "['Lenovo IdeaTab', 'IdeaTab A3500L', 'Acer Iconia', 'Galaxy Tab 3', 'Iconia B1-730H...', 'Memo Pad HD 7', 'Asus MeMO Pad', 'Amazon Kindle', 'Galaxy Tab 3', 'IdeaTab A8-50', 'MeMO Pad 7', 'IdeaTab A3500-...', 'IdeaTab S5000', 'Galaxy Tab 4', 'Galaxy Tab', 'MeMo PAD FHD 1...', 'Galaxy Note', 'Galaxy Note', 'iPad Mini Reti...', 'Galaxy Note 10...', 'Apple iPad Air']\n",
      "21\n"
     ]
    }
   ],
   "source": [
    "#finding all the names\n",
    "names = soup.find_all(\"a\",class_ = \"title\")\n",
    "#print(names)\n",
    "product_name = []\n",
    "for i in names:\n",
    "    #print(i.string)\n",
    "    a=i.text\n",
    "    product_name.append(a)\n",
    "print(product_name)\n",
    "print(len(product_name))"
   ]
  },
  {
   "cell_type": "code",
   "execution_count": 6,
   "id": "aa4d2c27",
   "metadata": {},
   "outputs": [
    {
     "name": "stdout",
     "output_type": "stream",
     "text": [
      "['$69.99', '$88.99', '$96.99', '$97.99', '$99.99', '$101.99', '$102.99', '$103.99', '$107.99', '$121.99', '$130.99', '$148.99', '$172.99', '$233.99', '$251.99', '$320.99', '$399.99', '$489.99', '$537.99', '$587.99', '$603.99']\n",
      "21\n"
     ]
    }
   ],
   "source": [
    "#getting all the prices\n",
    "\n",
    "prices = soup.find_all(\"h4\",class_ = \"price float-end card-title pull-right\")\n",
    "#print(prices)\n",
    "product_prices = []\n",
    "for i in prices:\n",
    "    #print(i.string)\n",
    "    a=i.text\n",
    "    product_prices.append(a)\n",
    "print(product_prices)\n",
    "print(len(product_prices))"
   ]
  },
  {
   "cell_type": "code",
   "execution_count": 7,
   "id": "4fea4bac",
   "metadata": {},
   "outputs": [
    {
     "name": "stdout",
     "output_type": "stream",
     "text": [
      "['7\" screen, Android', 'Black, 7\" IPS, Quad-Core 1.2GHz, 8GB, Android 4.2', '7\" screen, Android, 16GB', '7\", 8GB, Wi-Fi, Android 4.2, White', 'Black, 7\", 1.6GHz Dual-Core, 8GB, Android 4.4', 'IPS, Dual-Core 1.2GHz, 8GB, Android 4.3', '7\" screen, Android, 8GB', '6\" screen, wifi', '7\", 8GB, Wi-Fi, Android 4.2, Yellow', 'Blue, 8\" IPS, Quad-Core 1.3GHz, 16GB, Android 4.2', 'White, 7\", Atom 1.2GHz, 8GB, Android 4.4', 'Blue, 7\" IPS, Quad-Core 1.3GHz, 8GB, 3G, Android 4.2', 'Silver, 7\" IPS, Quad-Core 1.2Ghz, 16GB, 3G, Android 4.2', 'LTE (SM-T235), Quad-Core 1.2GHz, 8GB, Black', '16GB, White', 'White, 10.1\" IPS, 1.6GHz, 2GB, 16GB, Android 4.2', '10.1\", 3G, Android 4.0, Garnet Red', '12.2\", 32GB, WiFi, Android 4.4, White', 'Wi-Fi + Cellular, 32GB, Silver', '10.1\", 32GB, Black', 'Wi-Fi, 64GB, Silver']\n",
      "21\n"
     ]
    }
   ],
   "source": [
    "#getting all the description\n",
    "\n",
    "description = soup.find_all(\"p\",class_ = \"description\")\n",
    "#print(prices)\n",
    "product_description = []\n",
    "for i in description:\n",
    "    #print(i.string)\n",
    "    a=i.text\n",
    "    product_description.append(a)\n",
    "print(product_description)\n",
    "print(len(product_description))"
   ]
  },
  {
   "cell_type": "code",
   "execution_count": 10,
   "id": "2764d75e",
   "metadata": {},
   "outputs": [
    {
     "name": "stdout",
     "output_type": "stream",
     "text": [
      "['7 reviews', '7 reviews', '7 reviews', '2 reviews', '1 reviews', '10 reviews', '14 reviews', '3 reviews', '14 reviews', '13 reviews', '11 reviews', '9 reviews', '8 reviews', '1 reviews', '14 reviews', '7 reviews', '12 reviews', '9 reviews', '8 reviews', '6 reviews', '7 reviews']\n"
     ]
    }
   ],
   "source": [
    "#reviews\n",
    "reviews = soup.find_all(\"p\",class_=\"review-count\")\n",
    "reviews_list = []\n",
    "\n",
    "for i in reviews:\n",
    "    rev = i.text\n",
    "    reviews_list.append(rev)\n",
    "print(reviews_list)"
   ]
  },
  {
   "cell_type": "code",
   "execution_count": 13,
   "id": "f51a473f",
   "metadata": {},
   "outputs": [
    {
     "name": "stdout",
     "output_type": "stream",
     "text": [
      "            Prod_Name    Price     Reviews  \\\n",
      "0      Lenovo IdeaTab   $69.99   7 reviews   \n",
      "1      IdeaTab A3500L   $88.99   7 reviews   \n",
      "2         Acer Iconia   $96.99   7 reviews   \n",
      "3        Galaxy Tab 3   $97.99   2 reviews   \n",
      "4   Iconia B1-730H...   $99.99   1 reviews   \n",
      "5       Memo Pad HD 7  $101.99  10 reviews   \n",
      "6       Asus MeMO Pad  $102.99  14 reviews   \n",
      "7       Amazon Kindle  $103.99   3 reviews   \n",
      "8        Galaxy Tab 3  $107.99  14 reviews   \n",
      "9       IdeaTab A8-50  $121.99  13 reviews   \n",
      "10         MeMO Pad 7  $130.99  11 reviews   \n",
      "11  IdeaTab A3500-...  $148.99   9 reviews   \n",
      "12      IdeaTab S5000  $172.99   8 reviews   \n",
      "13       Galaxy Tab 4  $233.99   1 reviews   \n",
      "14         Galaxy Tab  $251.99  14 reviews   \n",
      "15  MeMo PAD FHD 1...  $320.99   7 reviews   \n",
      "16        Galaxy Note  $399.99  12 reviews   \n",
      "17        Galaxy Note  $489.99   9 reviews   \n",
      "18  iPad Mini Reti...  $537.99   8 reviews   \n",
      "19  Galaxy Note 10...  $587.99   6 reviews   \n",
      "20     Apple iPad Air  $603.99   7 reviews   \n",
      "\n",
      "                                          Description  \n",
      "0                                  7\" screen, Android  \n",
      "1   Black, 7\" IPS, Quad-Core 1.2GHz, 8GB, Android 4.2  \n",
      "2                            7\" screen, Android, 16GB  \n",
      "3                  7\", 8GB, Wi-Fi, Android 4.2, White  \n",
      "4       Black, 7\", 1.6GHz Dual-Core, 8GB, Android 4.4  \n",
      "5             IPS, Dual-Core 1.2GHz, 8GB, Android 4.3  \n",
      "6                             7\" screen, Android, 8GB  \n",
      "7                                     6\" screen, wifi  \n",
      "8                 7\", 8GB, Wi-Fi, Android 4.2, Yellow  \n",
      "9   Blue, 8\" IPS, Quad-Core 1.3GHz, 16GB, Android 4.2  \n",
      "10           White, 7\", Atom 1.2GHz, 8GB, Android 4.4  \n",
      "11  Blue, 7\" IPS, Quad-Core 1.3GHz, 8GB, 3G, Andro...  \n",
      "12  Silver, 7\" IPS, Quad-Core 1.2Ghz, 16GB, 3G, An...  \n",
      "13        LTE (SM-T235), Quad-Core 1.2GHz, 8GB, Black  \n",
      "14                                        16GB, White  \n",
      "15   White, 10.1\" IPS, 1.6GHz, 2GB, 16GB, Android 4.2  \n",
      "16                 10.1\", 3G, Android 4.0, Garnet Red  \n",
      "17              12.2\", 32GB, WiFi, Android 4.4, White  \n",
      "18                     Wi-Fi + Cellular, 32GB, Silver  \n",
      "19                                 10.1\", 32GB, Black  \n",
      "20                                Wi-Fi, 64GB, Silver  \n"
     ]
    }
   ],
   "source": [
    "#creating data frame\n",
    "df = pd.DataFrame({\"Prod_Name\":product_name,\"Price\":product_prices,\"Reviews\":reviews_list,\"Description\":product_description})\n",
    "print(df)"
   ]
  },
  {
   "cell_type": "code",
   "execution_count": 14,
   "id": "795d9509",
   "metadata": {},
   "outputs": [],
   "source": [
    "#saving to CSV file\n",
    "df.to_csv(\"Tablets.csv\")"
   ]
  },
  {
   "cell_type": "code",
   "execution_count": null,
   "id": "2e9a264d",
   "metadata": {},
   "outputs": [],
   "source": []
  }
 ],
 "metadata": {
  "kernelspec": {
   "display_name": "Python 3 (ipykernel)",
   "language": "python",
   "name": "python3"
  },
  "language_info": {
   "codemirror_mode": {
    "name": "ipython",
    "version": 3
   },
   "file_extension": ".py",
   "mimetype": "text/x-python",
   "name": "python",
   "nbconvert_exporter": "python",
   "pygments_lexer": "ipython3",
   "version": "3.11.5"
  }
 },
 "nbformat": 4,
 "nbformat_minor": 5
}
