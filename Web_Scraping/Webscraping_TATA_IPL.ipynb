{
 "cells": [
  {
   "cell_type": "code",
   "execution_count": 1,
   "id": "0f559105",
   "metadata": {},
   "outputs": [
    {
     "name": "stdout",
     "output_type": "stream",
     "text": [
      "<Response [200]>\n"
     ]
    }
   ],
   "source": [
    "import requests\n",
    "from bs4 import BeautifulSoup\n",
    "import pandas as pd\n",
    "import re\n",
    "\n",
    "url = \"https://www.iplt20.com/auction\"\n",
    "\n",
    "# getting request\n",
    "r = requests.get(url)\n",
    "print(r)\n",
    "soup = BeautifulSoup(r.text,\"lxml\")"
   ]
  },
  {
   "cell_type": "code",
   "execution_count": 4,
   "id": "7465fc7c",
   "metadata": {},
   "outputs": [
    {
     "name": "stdout",
     "output_type": "stream",
     "text": [
      "\n",
      "\n",
      "\n",
      "\n",
      "TEAM\n",
      "FUNDS REMAINING\n",
      "OVERSEAS PLAYERS \n",
      "TOTAL PLAYERS\n",
      "\n",
      "\n",
      "\n",
      "\n",
      "\n",
      "\n",
      "\n",
      "\n",
      "\n",
      "\n",
      "Chennai Super Kings\n",
      "\n",
      "\n",
      "₹1,00,00,000\n",
      "8\n",
      "25\n",
      "\n",
      "\n",
      "\n",
      "\n",
      "\n",
      "\n",
      "\n",
      "Delhi Capitals\n",
      "\n",
      "\n",
      "₹9,90,00,000\n",
      "8\n",
      "25\n",
      "\n",
      "\n",
      "\n",
      "\n",
      "\n",
      "\n",
      "\n",
      "Gujarat Titans\n",
      "\n",
      "\n",
      "₹7,85,00,000\n",
      "8\n",
      "25\n",
      "\n",
      "\n",
      "\n",
      "\n",
      "\n",
      "\n",
      "\n",
      "Kolkata Knight Riders\n",
      "\n",
      "\n",
      "₹1,35,00,000\n",
      "8\n",
      "23\n",
      "\n",
      "\n",
      "\n",
      "\n",
      "\n",
      "\n",
      "\n",
      "Lucknow Super Giants\n",
      "\n",
      "\n",
      "₹95,00,000\n",
      "8\n",
      "25\n",
      "\n",
      "\n",
      "\n",
      "\n",
      "\n",
      "\n",
      "\n",
      "Mumbai Indians\n",
      "\n",
      "\n",
      "₹1,05,00,000\n",
      "8\n",
      "25\n",
      "\n",
      "\n",
      "\n",
      "\n",
      "\n",
      "\n",
      "\n",
      "Punjab Kings\n",
      "\n",
      "\n",
      "₹4,15,00,000\n",
      "8\n",
      "25\n",
      "\n",
      "\n",
      "\n",
      "\n",
      "\n",
      "\n",
      "\n",
      "Rajasthan Royals\n",
      "\n",
      "\n",
      "₹20,00,000\n",
      "8\n",
      "22\n",
      "\n",
      "\n",
      "\n",
      "\n",
      "\n",
      "\n",
      "\n",
      "Royal Challengers Bengaluru\n",
      "\n",
      "\n",
      "₹2,85,00,000\n",
      "8\n",
      "25\n",
      "\n",
      "\n",
      "\n",
      "\n",
      "\n",
      "\n",
      "\n",
      "Sunrisers Hyderabad\n",
      "\n",
      "\n",
      "₹3,20,00,000\n",
      "8\n",
      "25\n",
      "\n",
      "\n",
      "\n",
      "\n"
     ]
    }
   ],
   "source": [
    "table = soup.find(\"table\",class_ = \"ih-td-tab auction-tbl\")\n",
    "for i in table:\n",
    "    print(i.text)"
   ]
  },
  {
   "cell_type": "code",
   "execution_count": 5,
   "id": "149f981c",
   "metadata": {},
   "outputs": [
    {
     "name": "stdout",
     "output_type": "stream",
     "text": [
      "TEAM\n",
      "FUNDS REMAINING\n",
      "OVERSEAS PLAYERS \n",
      "TOTAL PLAYERS\n"
     ]
    }
   ],
   "source": [
    "#getting header\n",
    "\n",
    "header = table.find_all(\"th\")\n",
    "for i in header:\n",
    "    print(i.text)"
   ]
  },
  {
   "cell_type": "code",
   "execution_count": 11,
   "id": "967b12b1",
   "metadata": {},
   "outputs": [
    {
     "name": "stdout",
     "output_type": "stream",
     "text": [
      "['TEAM', 'FUNDS REMAINING', 'OVERSEAS PLAYERS ', 'TOTAL PLAYERS']\n",
      "\n",
      "\n",
      "Empty DataFrame\n",
      "Columns: [TEAM, FUNDS REMAINING, OVERSEAS PLAYERS , TOTAL PLAYERS]\n",
      "Index: []\n"
     ]
    }
   ],
   "source": [
    "#placing it into data frame\n",
    "\n",
    "title =[]\n",
    "\n",
    "header = table.find_all(\"th\")\n",
    "for i in header:\n",
    "    name = i.text\n",
    "    title.append(name)\n",
    "    \n",
    "print(title)\n",
    "\n",
    "df = pd.DataFrame(columns = title)\n",
    "print('\\n')\n",
    "print(df)"
   ]
  },
  {
   "cell_type": "code",
   "execution_count": 8,
   "id": "0b77c0b4",
   "metadata": {},
   "outputs": [
    {
     "name": "stdout",
     "output_type": "stream",
     "text": [
      "['\\n\\n\\n\\n\\nChennai Super Kings\\n\\n', '₹1,00,00,000', '8', '25']\n",
      "['\\n\\n\\n\\n\\nDelhi Capitals\\n\\n', '₹9,90,00,000', '8', '25']\n",
      "['\\n\\n\\n\\n\\nGujarat Titans\\n\\n', '₹7,85,00,000', '8', '25']\n",
      "['\\n\\n\\n\\n\\nKolkata Knight Riders\\n\\n', '₹1,35,00,000', '8', '23']\n",
      "['\\n\\n\\n\\n\\nLucknow Super Giants\\n\\n', '₹95,00,000', '8', '25']\n",
      "['\\n\\n\\n\\n\\nMumbai Indians\\n\\n', '₹1,05,00,000', '8', '25']\n",
      "['\\n\\n\\n\\n\\nPunjab Kings\\n\\n', '₹4,15,00,000', '8', '25']\n",
      "['\\n\\n\\n\\n\\nRajasthan Royals\\n\\n', '₹20,00,000', '8', '22']\n",
      "['\\n\\n\\n\\n\\nRoyal Challengers Bengaluru\\n\\n', '₹2,85,00,000', '8', '25']\n",
      "['\\n\\n\\n\\n\\nSunrisers Hyderabad\\n\\n', '₹3,20,00,000', '8', '25']\n",
      "                                        TEAM FUNDS REMAINING  \\\n",
      "0          \\n\\n\\n\\n\\nChennai Super Kings\\n\\n    ₹1,00,00,000   \n",
      "1               \\n\\n\\n\\n\\nDelhi Capitals\\n\\n    ₹9,90,00,000   \n",
      "2               \\n\\n\\n\\n\\nGujarat Titans\\n\\n    ₹7,85,00,000   \n",
      "3        \\n\\n\\n\\n\\nKolkata Knight Riders\\n\\n    ₹1,35,00,000   \n",
      "4         \\n\\n\\n\\n\\nLucknow Super Giants\\n\\n      ₹95,00,000   \n",
      "5               \\n\\n\\n\\n\\nMumbai Indians\\n\\n    ₹1,05,00,000   \n",
      "6                 \\n\\n\\n\\n\\nPunjab Kings\\n\\n    ₹4,15,00,000   \n",
      "7             \\n\\n\\n\\n\\nRajasthan Royals\\n\\n      ₹20,00,000   \n",
      "8  \\n\\n\\n\\n\\nRoyal Challengers Bengaluru\\n\\n    ₹2,85,00,000   \n",
      "9          \\n\\n\\n\\n\\nSunrisers Hyderabad\\n\\n    ₹3,20,00,000   \n",
      "\n",
      "  OVERSEAS PLAYERS  TOTAL PLAYERS  \n",
      "0                 8            25  \n",
      "1                 8            25  \n",
      "2                 8            25  \n",
      "3                 8            23  \n",
      "4                 8            25  \n",
      "5                 8            25  \n",
      "6                 8            25  \n",
      "7                 8            22  \n",
      "8                 8            25  \n",
      "9                 8            25  \n"
     ]
    }
   ],
   "source": [
    "# finding all the table rows\n",
    "\n",
    "rows = table.find_all(\"tr\")\n",
    "\n",
    "for i in rows[1:]:\n",
    "    data = i.find_all(\"td\")\n",
    "    #print(data)\n",
    "    row = [j.text for j in data]\n",
    "    print(row)\n",
    "    l = len(df)\n",
    "    df.loc[l] = row\n",
    "    \n",
    "print(df)\n",
    "    "
   ]
  },
  {
   "cell_type": "code",
   "execution_count": 10,
   "id": "562346dc",
   "metadata": {},
   "outputs": [
    {
     "ename": "KeyError",
     "evalue": "'TEAM '",
     "output_type": "error",
     "traceback": [
      "\u001b[1;31m---------------------------------------------------------------------------\u001b[0m",
      "\u001b[1;31mKeyError\u001b[0m                                  Traceback (most recent call last)",
      "File \u001b[1;32m~\\anaconda3\\Lib\\site-packages\\pandas\\core\\indexes\\base.py:3791\u001b[0m, in \u001b[0;36mIndex.get_loc\u001b[1;34m(self, key)\u001b[0m\n\u001b[0;32m   3790\u001b[0m \u001b[38;5;28;01mtry\u001b[39;00m:\n\u001b[1;32m-> 3791\u001b[0m     \u001b[38;5;28;01mreturn\u001b[39;00m \u001b[38;5;28mself\u001b[39m\u001b[38;5;241m.\u001b[39m_engine\u001b[38;5;241m.\u001b[39mget_loc(casted_key)\n\u001b[0;32m   3792\u001b[0m \u001b[38;5;28;01mexcept\u001b[39;00m \u001b[38;5;167;01mKeyError\u001b[39;00m \u001b[38;5;28;01mas\u001b[39;00m err:\n",
      "File \u001b[1;32mindex.pyx:152\u001b[0m, in \u001b[0;36mpandas._libs.index.IndexEngine.get_loc\u001b[1;34m()\u001b[0m\n",
      "File \u001b[1;32mindex.pyx:181\u001b[0m, in \u001b[0;36mpandas._libs.index.IndexEngine.get_loc\u001b[1;34m()\u001b[0m\n",
      "File \u001b[1;32mpandas\\_libs\\hashtable_class_helper.pxi:7080\u001b[0m, in \u001b[0;36mpandas._libs.hashtable.PyObjectHashTable.get_item\u001b[1;34m()\u001b[0m\n",
      "File \u001b[1;32mpandas\\_libs\\hashtable_class_helper.pxi:7088\u001b[0m, in \u001b[0;36mpandas._libs.hashtable.PyObjectHashTable.get_item\u001b[1;34m()\u001b[0m\n",
      "\u001b[1;31mKeyError\u001b[0m: 'TEAM '",
      "\nThe above exception was the direct cause of the following exception:\n",
      "\u001b[1;31mKeyError\u001b[0m                                  Traceback (most recent call last)",
      "Cell \u001b[1;32mIn[10], line 3\u001b[0m\n\u001b[0;32m      1\u001b[0m \u001b[38;5;66;03m#removing back shlashes using strip method., \u001b[39;00m\n\u001b[1;32m----> 3\u001b[0m df[\u001b[38;5;124m'\u001b[39m\u001b[38;5;124mTEAM \u001b[39m\u001b[38;5;124m'\u001b[39m] \u001b[38;5;241m=\u001b[39m df[\u001b[38;5;124m'\u001b[39m\u001b[38;5;124mTEAM \u001b[39m\u001b[38;5;124m'\u001b[39m]\u001b[38;5;241m.\u001b[39mstr\u001b[38;5;241m.\u001b[39mstrip(\u001b[38;5;124m'\u001b[39m\u001b[38;5;130;01m\\n\u001b[39;00m\u001b[38;5;130;01m\\n\u001b[39;00m\u001b[38;5;130;01m\\n\u001b[39;00m\u001b[38;5;130;01m\\n\u001b[39;00m\u001b[38;5;124m'\u001b[39m)\n\u001b[0;32m      4\u001b[0m \u001b[38;5;28mprint\u001b[39m(df)\n",
      "File \u001b[1;32m~\\anaconda3\\Lib\\site-packages\\pandas\\core\\frame.py:3893\u001b[0m, in \u001b[0;36mDataFrame.__getitem__\u001b[1;34m(self, key)\u001b[0m\n\u001b[0;32m   3891\u001b[0m \u001b[38;5;28;01mif\u001b[39;00m \u001b[38;5;28mself\u001b[39m\u001b[38;5;241m.\u001b[39mcolumns\u001b[38;5;241m.\u001b[39mnlevels \u001b[38;5;241m>\u001b[39m \u001b[38;5;241m1\u001b[39m:\n\u001b[0;32m   3892\u001b[0m     \u001b[38;5;28;01mreturn\u001b[39;00m \u001b[38;5;28mself\u001b[39m\u001b[38;5;241m.\u001b[39m_getitem_multilevel(key)\n\u001b[1;32m-> 3893\u001b[0m indexer \u001b[38;5;241m=\u001b[39m \u001b[38;5;28mself\u001b[39m\u001b[38;5;241m.\u001b[39mcolumns\u001b[38;5;241m.\u001b[39mget_loc(key)\n\u001b[0;32m   3894\u001b[0m \u001b[38;5;28;01mif\u001b[39;00m is_integer(indexer):\n\u001b[0;32m   3895\u001b[0m     indexer \u001b[38;5;241m=\u001b[39m [indexer]\n",
      "File \u001b[1;32m~\\anaconda3\\Lib\\site-packages\\pandas\\core\\indexes\\base.py:3798\u001b[0m, in \u001b[0;36mIndex.get_loc\u001b[1;34m(self, key)\u001b[0m\n\u001b[0;32m   3793\u001b[0m     \u001b[38;5;28;01mif\u001b[39;00m \u001b[38;5;28misinstance\u001b[39m(casted_key, \u001b[38;5;28mslice\u001b[39m) \u001b[38;5;129;01mor\u001b[39;00m (\n\u001b[0;32m   3794\u001b[0m         \u001b[38;5;28misinstance\u001b[39m(casted_key, abc\u001b[38;5;241m.\u001b[39mIterable)\n\u001b[0;32m   3795\u001b[0m         \u001b[38;5;129;01mand\u001b[39;00m \u001b[38;5;28many\u001b[39m(\u001b[38;5;28misinstance\u001b[39m(x, \u001b[38;5;28mslice\u001b[39m) \u001b[38;5;28;01mfor\u001b[39;00m x \u001b[38;5;129;01min\u001b[39;00m casted_key)\n\u001b[0;32m   3796\u001b[0m     ):\n\u001b[0;32m   3797\u001b[0m         \u001b[38;5;28;01mraise\u001b[39;00m InvalidIndexError(key)\n\u001b[1;32m-> 3798\u001b[0m     \u001b[38;5;28;01mraise\u001b[39;00m \u001b[38;5;167;01mKeyError\u001b[39;00m(key) \u001b[38;5;28;01mfrom\u001b[39;00m \u001b[38;5;21;01merr\u001b[39;00m\n\u001b[0;32m   3799\u001b[0m \u001b[38;5;28;01mexcept\u001b[39;00m \u001b[38;5;167;01mTypeError\u001b[39;00m:\n\u001b[0;32m   3800\u001b[0m     \u001b[38;5;66;03m# If we have a listlike key, _check_indexing_error will raise\u001b[39;00m\n\u001b[0;32m   3801\u001b[0m     \u001b[38;5;66;03m#  InvalidIndexError. Otherwise we fall through and re-raise\u001b[39;00m\n\u001b[0;32m   3802\u001b[0m     \u001b[38;5;66;03m#  the TypeError.\u001b[39;00m\n\u001b[0;32m   3803\u001b[0m     \u001b[38;5;28mself\u001b[39m\u001b[38;5;241m.\u001b[39m_check_indexing_error(key)\n",
      "\u001b[1;31mKeyError\u001b[0m: 'TEAM '"
     ]
    }
   ],
   "source": [
    "#removing back shlashes using strip method., \n",
    "\n",
    "df['TEAM '] = df['TEAM '].str.strip('\\n\\n\\n\\n')\n",
    "print(df)"
   ]
  },
  {
   "cell_type": "code",
   "execution_count": 12,
   "id": "3c929ea6",
   "metadata": {},
   "outputs": [
    {
     "name": "stdout",
     "output_type": "stream",
     "text": [
      "                          TEAM FUNDS REMAINING OVERSEAS PLAYERS  TOTAL PLAYERS\n",
      "0          Chennai Super Kings    ₹1,00,00,000                 8            25\n",
      "1               Delhi Capitals    ₹9,90,00,000                 8            25\n",
      "2               Gujarat Titans    ₹7,85,00,000                 8            25\n",
      "3        Kolkata Knight Riders    ₹1,35,00,000                 8            23\n",
      "4         Lucknow Super Giants      ₹95,00,000                 8            25\n",
      "5               Mumbai Indians    ₹1,05,00,000                 8            25\n",
      "6                 Punjab Kings    ₹4,15,00,000                 8            25\n",
      "7             Rajasthan Royals      ₹20,00,000                 8            22\n",
      "8  Royal Challengers Bengaluru    ₹2,85,00,000                 8            25\n",
      "9          Sunrisers Hyderabad    ₹3,20,00,000                 8            25\n"
     ]
    }
   ],
   "source": [
    "#removing back slashes\n",
    "\n",
    "# finding all the table rows\n",
    "\n",
    "rows = table.find_all(\"tr\")\n",
    "\n",
    "for i in rows[1:]:\n",
    "    first_td = i.find_all(\"td\")[0].find(\"div\",class_=\"ih-pt-ic\").text.strip()\n",
    "    data = i.find_all(\"td\")[1:]\n",
    "    #print(data)\n",
    "    row = [j.text for j in data]\n",
    "    #print(row)\n",
    "    row.insert(0,first_td)\n",
    "    l = len(df)\n",
    "    df.loc[l] = row\n",
    "    \n",
    "print(df)\n",
    "    "
   ]
  },
  {
   "cell_type": "code",
   "execution_count": null,
   "id": "a5cbae0a",
   "metadata": {},
   "outputs": [],
   "source": []
  }
 ],
 "metadata": {
  "kernelspec": {
   "display_name": "Python 3 (ipykernel)",
   "language": "python",
   "name": "python3"
  },
  "language_info": {
   "codemirror_mode": {
    "name": "ipython",
    "version": 3
   },
   "file_extension": ".py",
   "mimetype": "text/x-python",
   "name": "python",
   "nbconvert_exporter": "python",
   "pygments_lexer": "ipython3",
   "version": "3.11.5"
  }
 },
 "nbformat": 4,
 "nbformat_minor": 5
}
